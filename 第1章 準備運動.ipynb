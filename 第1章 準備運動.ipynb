{
 "cells": [
  {
   "cell_type": "markdown",
   "metadata": {},
   "source": [
    "## 00. 文字列の逆順\n",
    "文字列”stressed”の文字を逆に（末尾から先頭に向かって）並べた文字列を得よ．"
   ]
  },
  {
   "cell_type": "code",
   "execution_count": 19,
   "metadata": {},
   "outputs": [
    {
     "data": {
      "text/plain": [
       "'desserts'"
      ]
     },
     "execution_count": 19,
     "metadata": {},
     "output_type": "execute_result"
    }
   ],
   "source": [
    "'stressed'[::-1]"
   ]
  },
  {
   "cell_type": "markdown",
   "metadata": {},
   "source": [
    "## 01. 「パタトクカシーー」\n",
    "「パタトクカシーー」という文字列の1,3,5,7文字目を取り出して連結した文字列を得よ．"
   ]
  },
  {
   "cell_type": "code",
   "execution_count": 20,
   "metadata": {},
   "outputs": [
    {
     "data": {
      "text/plain": [
       "'タクシー'"
      ]
     },
     "execution_count": 20,
     "metadata": {},
     "output_type": "execute_result"
    }
   ],
   "source": [
    "'パタトクカシーー'[1::2]"
   ]
  },
  {
   "cell_type": "markdown",
   "metadata": {},
   "source": [
    "## 02. 「パトカー」＋「タクシー」＝「パタトクカシーー」\n",
    "「パトカー」＋「タクシー」の文字を先頭から交互に連結して文字列「パタトクカシーー」を得よ．"
   ]
  },
  {
   "cell_type": "code",
   "execution_count": 22,
   "metadata": {},
   "outputs": [
    {
     "data": {
      "text/plain": [
       "'パタトクカシーー'"
      ]
     },
     "execution_count": 22,
     "metadata": {},
     "output_type": "execute_result"
    }
   ],
   "source": [
    "a = 'パトカー'\n",
    "b = 'タクシー'\n",
    "''.join([a[i]+b[i] for i in range(len(a))])"
   ]
  },
  {
   "cell_type": "markdown",
   "metadata": {},
   "source": [
    "## 03. 円周率\n",
    "“Now I need a drink, alcoholic of course, after the heavy lectures involving quantum mechanics.”という文を単語に分解し，各単語の（アルファベットの）文字数を先頭から出現順に並べたリストを作成せよ．"
   ]
  },
  {
   "cell_type": "code",
   "execution_count": 28,
   "metadata": {},
   "outputs": [
    {
     "data": {
      "text/plain": [
       "[3, 1, 4, 1, 6, 9, 2, 7, 5, 3, 5, 8, 9, 7, 9]"
      ]
     },
     "execution_count": 28,
     "metadata": {},
     "output_type": "execute_result"
    }
   ],
   "source": [
    "a = 'Now I need a drink, alcoholic of course, after the heavy lectures involving quantum mechanics.'\n",
    "[len(s) for s in a[:-1].split(' ')]"
   ]
  },
  {
   "cell_type": "markdown",
   "metadata": {},
   "source": [
    "## 04. 元素記号\n",
    "“Hi He Lied Because Boron Could Not Oxidize Fluorine. New Nations Might Also Sign Peace Security Clause. Arthur King Can.”という文を単語に分解し，1, 5, 6, 7, 8, 9, 15, 16, 19番目の単語は先頭の1文字，それ以外の単語は先頭の2文字を取り出し，取り出した文字列から単語の位置（先頭から何番目の単語か）への連想配列（辞書型もしくはマップ型）を作成せよ．"
   ]
  },
  {
   "cell_type": "code",
   "execution_count": 35,
   "metadata": {},
   "outputs": [
    {
     "data": {
      "text/plain": [
       "{'Al': 13,\n",
       " 'Ar': 18,\n",
       " 'B': 5,\n",
       " 'Be': 4,\n",
       " 'C': 6,\n",
       " 'Ca': 20,\n",
       " 'Cl': 17,\n",
       " 'F': 9,\n",
       " 'H': 1,\n",
       " 'He': 2,\n",
       " 'K': 19,\n",
       " 'Li': 3,\n",
       " 'Mi': 12,\n",
       " 'N': 7,\n",
       " 'Na': 11,\n",
       " 'Ne': 10,\n",
       " 'O': 8,\n",
       " 'P': 15,\n",
       " 'S': 16,\n",
       " 'Si': 14}"
      ]
     },
     "execution_count": 35,
     "metadata": {},
     "output_type": "execute_result"
    }
   ],
   "source": [
    "a = 'Hi He Lied Because Boron Could Not Oxidize Fluorine. New Nations Might Also Sign Peace Security Clause. Arthur King Can.'\n",
    "l = a.replace('.', '').split(' ')\n",
    "d = {}\n",
    "for i in range(len(l)):\n",
    "    if i+1 in [1, 5, 6, 7, 8, 9, 15, 16, 19]:\n",
    "        d[l[i][0]] = i+1\n",
    "    else:\n",
    "        d[l[i][0:2]] = i+1\n",
    "d"
   ]
  },
  {
   "cell_type": "markdown",
   "metadata": {},
   "source": [
    "## 05. n-gram\n",
    "与えられたシーケンス（文字列やリストなど）からn-gramを作る関数を作成せよ．この関数を用い，”I am an NLPer”という文から単語bi-gram，文字bi-gramを得よ．"
   ]
  },
  {
   "cell_type": "code",
   "execution_count": 41,
   "metadata": {},
   "outputs": [
    {
     "data": {
      "text/plain": [
       "[['I', 'am'], ['am', 'an'], ['an', 'NLPer']]"
      ]
     },
     "execution_count": 41,
     "metadata": {},
     "output_type": "execute_result"
    }
   ],
   "source": [
    "def word_ngram(s, n):\n",
    "    l = s.split(' ')\n",
    "    return [l[i:i+n] for i in range(len(l)-n+1)]\n",
    "    \n",
    "word_ngram('I am an NLPer', 2)"
   ]
  },
  {
   "cell_type": "code",
   "execution_count": 43,
   "metadata": {},
   "outputs": [
    {
     "data": {
      "text/plain": [
       "['Ia', 'am', 'ma', 'an', 'nN', 'NL', 'LP', 'Pe', 'er']"
      ]
     },
     "execution_count": 43,
     "metadata": {},
     "output_type": "execute_result"
    }
   ],
   "source": [
    "def char_ngram(s, n):\n",
    "    s = ''.join(s.split(' '))\n",
    "    return [s[i:i+n] for i in range(len(s)-n+1)]\n",
    "    \n",
    "char_ngram('I am an NLPer', 2)"
   ]
  },
  {
   "cell_type": "markdown",
   "metadata": {},
   "source": [
    "## 06. 集合\n",
    "“paraparaparadise”と”paragraph”に含まれる文字bi-gramの集合を，それぞれ, XとYとして求め，XとYの和集合，積集合，差集合を求めよ．さらに，’se’というbi-gramがXおよびYに含まれるかどうかを調べよ．"
   ]
  },
  {
   "cell_type": "code",
   "execution_count": 50,
   "metadata": {},
   "outputs": [
    {
     "name": "stdout",
     "output_type": "stream",
     "text": [
      "x: {'di', 'ad', 'ap', 'pa', 'ar', 'ra', 'is', 'se'}\n",
      "y: {'ap', 'pa', 'ar', 'gr', 'ra', 'ag', 'ph'}\n",
      "和集合: {'gr', 'ar', 'ra', 'ag', 'ph', 'se', 'di', 'ad', 'ap', 'pa', 'is'}\n",
      "席集合: {'pa', 'ar', 'ap', 'ra'}\n",
      "差集合: {'di', 'se', 'ad', 'is'}\n",
      "se in x: True\n",
      "se in y False\n"
     ]
    }
   ],
   "source": [
    "s1 = 'paraparaparadise'\n",
    "s2 = 'paragraph'\n",
    "x = set(char_ngram(s1, 2))\n",
    "y = set(char_ngram(s2, 2))\n",
    "\n",
    "print('x:', x)\n",
    "print('y:', y)\n",
    "print('和集合:', x | y)\n",
    "print('席集合:', x & y)\n",
    "print('差集合:', x - y)\n",
    "print('se in x:', 'se' in x)\n",
    "print('se in y', 'se' in y)"
   ]
  },
  {
   "cell_type": "markdown",
   "metadata": {
    "collapsed": true
   },
   "source": [
    "## 07. テンプレートによる文生成\n",
    "引数x, y, zを受け取り「x時のyはz」という文字列を返す関数を実装せよ．さらに，x=12, y=”気温”, z=22.4として，実行結果を確認せよ．"
   ]
  },
  {
   "cell_type": "code",
   "execution_count": 1,
   "metadata": {},
   "outputs": [
    {
     "data": {
      "text/plain": [
       "'12時の気温は22.4'"
      ]
     },
     "execution_count": 1,
     "metadata": {},
     "output_type": "execute_result"
    }
   ],
   "source": [
    "def create_sentence(x, y, z):\n",
    "    return '{}時の{}は{}'.format(x, y, z)\n",
    "    \n",
    "create_sentence(12, '気温', 22.4)"
   ]
  },
  {
   "cell_type": "markdown",
   "metadata": {},
   "source": [
    "## 08. 暗号文\n",
    "与えられた文字列の各文字を，以下の仕様で変換する関数cipherを実装せよ．\n",
    "\n",
    "- 英小文字ならば(219 - 文字コード)の文字に置換\n",
    "- その他の文字はそのまま出力\n",
    "\n",
    "この関数を用い，英語のメッセージを暗号化・復号化せよ．"
   ]
  },
  {
   "cell_type": "code",
   "execution_count": 11,
   "metadata": {},
   "outputs": [
    {
     "name": "stdout",
     "output_type": "stream",
     "text": [
      "暗号化: Tsrh rh z kvm. I zn uiln Jzkzm!\n",
      "複合化: This is a pen. I am from Japan!\n"
     ]
    }
   ],
   "source": [
    "def cipher(s):\n",
    "    return ''.join([chr(219 - ord(c)) if c.islower() else c for c in s])\n",
    "\n",
    "s = cipher('This is a pen. I am from Japan!')\n",
    "print('暗号化:', s)\n",
    "print('複合化:', cipher(s))"
   ]
  },
  {
   "cell_type": "markdown",
   "metadata": {},
   "source": [
    "## 09. Typoglycemia\n",
    "スペースで区切られた単語列に対して，各単語の先頭と末尾の文字は残し，それ以外の文字の順序をランダムに並び替えるプログラムを作成せよ．ただし，長さが４以下の単語は並び替えないこととする．適当な英語の文（例えば”I couldn’t believe that I could actually understand what I was reading : the phenomenal power of the human mind .”）を与え，その実行結果を確認せよ．"
   ]
  },
  {
   "cell_type": "code",
   "execution_count": 33,
   "metadata": {},
   "outputs": [
    {
     "name": "stdout",
     "output_type": "stream",
     "text": [
      "I couldn’t believe that I could actually understand what I was reading : the phenomenal power of the human mind .\n"
     ]
    },
    {
     "data": {
      "text/plain": [
       "'I c’lonudt beevlie that I cloud alutacly uendsantrd what I was rideang : the pomaenhenl pewor of the hmaun mind .'"
      ]
     },
     "execution_count": 33,
     "metadata": {},
     "output_type": "execute_result"
    }
   ],
   "source": [
    "import random\n",
    "\n",
    "def typoglycemia(s):\n",
    "    return ' '.join([w if len(w) <= 4 else w[0]+''.join(random.sample(w[1:-1], len(w)-2))+w[-1] for w in s.split(' ')])\n",
    "    \n",
    "s = 'I couldn’t believe that I could actually understand what I was reading : the phenomenal power of the human mind .'\n",
    "print(s)\n",
    "typoglycemia(s)"
   ]
  },
  {
   "cell_type": "code",
   "execution_count": null,
   "metadata": {
    "collapsed": true
   },
   "outputs": [],
   "source": []
  }
 ],
 "metadata": {
  "kernelspec": {
   "display_name": "Python 3",
   "language": "python",
   "name": "python3"
  },
  "language_info": {
   "codemirror_mode": {
    "name": "ipython",
    "version": 3
   },
   "file_extension": ".py",
   "mimetype": "text/x-python",
   "name": "python",
   "nbconvert_exporter": "python",
   "pygments_lexer": "ipython3",
   "version": "3.6.1"
  }
 },
 "nbformat": 4,
 "nbformat_minor": 2
}
